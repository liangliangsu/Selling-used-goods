{
 "cells": [
  {
   "cell_type": "code",
   "execution_count": 3,
   "metadata": {},
   "outputs": [],
   "source": [
    "import numpy as np \n",
    "import pandas as pd \n",
    "import os\n",
    "import gc\n",
    "import psutil\n",
    "\n",
    "from sklearn.model_selection import train_test_split\n",
    "from sklearn.metrics import roc_auc_score\n",
    "from sklearn.model_selection import StratifiedKFold\n",
    "\n",
    "from keras.models import Model\n",
    "from keras.layers import Input, Dropout, Dense, Embedding, SpatialDropout1D, concatenate\n",
    "from keras.layers import GRU, Bidirectional, GlobalAveragePooling1D, GlobalMaxPooling1D, BatchNormalization, Conv1D, MaxPooling1D, Flatten\n",
    "from keras.preprocessing.sequence import pad_sequences\n",
    "from keras.preprocessing import text, sequence\n",
    "from keras.callbacks import Callback\n",
    "from keras import backend as K\n",
    "from keras.models import Model\n",
    "\n",
    "from keras import optimizers\n",
    "\n",
    "from sklearn.preprocessing import LabelBinarizer\n",
    "from sklearn.preprocessing import LabelEncoder, MinMaxScaler, StandardScaler\n",
    "\n",
    "import warnings\n",
    "warnings.filterwarnings('ignore')\n",
    "\n",
    "from keras import backend as K\n",
    "from keras.optimizers import RMSprop, Adam\n",
    "from keras.callbacks import ModelCheckpoint, EarlyStopping\n",
    "import keras"
   ]
  },
  {
   "cell_type": "code",
   "execution_count": 2,
   "metadata": {},
   "outputs": [],
   "source": [
    "def RNN_model():\n",
    "\n",
    "    ##Inputs\n",
    "    #text\n",
    "    title = Input(shape=[16], name=\"title\")\n",
    "    description = Input(shape=[128], name=\"description\")\n",
    "    #category        \n",
    "    parent_category_name=Input(shape=[1], name=\"parent_category_name\")\n",
    "    category_name=Input(shape=[1], name=\"category_name\")\n",
    "    param_1 = Input(shape=[1], name=\"param_1\")\n",
    "    param123 = Input(shape=[1], name=\"param123\")\n",
    "    image_top_1 = Input(shape=[1], name=\"image_top_1\")\n",
    "    cluster_5 = Input(shape=[1], name=\"cluster_5\")\n",
    "    cluster_10 = Input(shape=[1], name=\"cluster_10\")\n",
    "    cluster_20 = Input(shape=[1], name=\"cluster_20\")\n",
    "    user_type = Input(shape=[1], name=\"user_type\")\n",
    "    activation_date = Input(shape=[1], name=\"activation_date\")\n",
    "    item_seq=Input(shape=[1], name=\"item_seq\")\n",
    "    #numerical\n",
    "    #'item_seq_count','item_seq_deal_avg',\n",
    "    #'dis_days', 'edit_time', 'item_num','count',      \n",
    "    numerical= Input(shape=[6], name=\"numerical\")\n",
    "    #image\n",
    "    #'avg_r','avg_g', 'avg_b', 'blurrness', 'dullness', 'whiteness',\n",
    "    #'avg_pixel_width', 'width', 'height', 'size', \n",
    "    #'resnet_1', 'resnet_3','resnet_5', 'resnet_ratio1', 'resnet_ratio2', \n",
    "    #'incept_1', 'incept_3','incept_5', 'incept_ratio1', 'incept_ratio2', \n",
    "    #'xcept_1', 'xcept_3','xcept_5', 'xcept_ratio1', 'xcept_ratio2'\n",
    "    image= Input(shape=[25], name=\"image\")\n",
    "    #location\n",
    "    #'cus', 'ship', 'r_cus', 'r_ship', 'all_cus'\n",
    "    location=Input(shape=[5], name=\"location\")\n",
    "    price= Input(shape=[1], name=\"price\")\n",
    "    #prenum\n",
    "    #'para_num',\n",
    "    #'deal_prob_avg', 'deal_prob_avg_par', 'count_avg', 'count_avg_par',\n",
    "    #'title_num_words','title_num_unique_words','title_words_vs_unique'\n",
    "    prenum= Input(shape=[8], name=\"prenum\")\n",
    "    #postnum\n",
    "    #'description_num_words','description_num_unique_words','description_words_vs_unique',\n",
    "    postnum= Input(shape=[3], name=\"postnum\")\n",
    "    \n",
    "    #Embeddings layers\n",
    "    vocab_size=200001\n",
    "    EMBEDDING_DIM1=300\n",
    "    emb_title = Embedding(vocab_size, EMBEDDING_DIM1, weights = [embedding_matrix1], \n",
    "                                          trainable = False)(title)\n",
    "    emb_description = Embedding(vocab_size, EMBEDDING_DIM1, weights = [embedding_matrix1], \n",
    "                                          trainable = False)(description)\n",
    "    emb_category_name = Embedding(48, 3)(category_name)\n",
    "    emb_parent_category_name = Embedding(10, 3)(parent_category_name)\n",
    "    emb_param_1 = Embedding(373, 1)(param_1)\n",
    "    emb_param123 = Embedding(2402, 1)(param123)\n",
    "    emb_image_top_1 = Embedding(3065, 1)(image_top_1)    \n",
    "    emb_cluster_5 = Embedding(68, 1)(cluster_5)\n",
    "    emb_cluster_10 = Embedding(47, 1)(cluster_10)\n",
    "    emb_cluster_20 = Embedding(24, 1)(cluster_20)\n",
    "    emb_user_type = Embedding(4, 1)(user_type)\n",
    "    emb_activation_date = Embedding(8, 1)(activation_date)\n",
    "    emb_item_seq = Embedding(33947, 1)(item_seq)\n",
    "       \n",
    "\n",
    "    rnn_layer1 = GRU(32) (emb_title)\n",
    "    rnn_layer2 = GRU(16) (emb_description)\n",
    "    \n",
    "    inter_l=concatenate([rnn_layer1,\n",
    "                         Flatten() (emb_category_name), \n",
    "                         Flatten() (emb_parent_category_name),\n",
    "                         Flatten() (emb_cluster_5), \n",
    "                         Flatten() (emb_cluster_10), \n",
    "                         Flatten() (emb_cluster_20),\n",
    "                         Flatten() (emb_param_1), \n",
    "                         Flatten() (emb_param123), \n",
    "                         location,\n",
    "                         image,\n",
    "                         prenum,\n",
    "                         price])\n",
    "    inter_l = Dense(16,activation='relu') (inter_l)\n",
    "    \n",
    "    post_l=concatenate([rnn_layer2,                        \n",
    "                        image,\n",
    "                        postnum,\n",
    "                        price])\n",
    "    post_l = Dense(16,activation='relu') (post_l)\n",
    "    \n",
    "    \n",
    "    #main layer\n",
    "    main_l = concatenate([inter_l,\n",
    "                          post_l,                         \n",
    "                          Flatten() (emb_image_top_1),                            \n",
    "                          Flatten() (emb_user_type), \n",
    "                          Flatten() (emb_activation_date), \n",
    "                          Flatten() (emb_item_seq),                         \n",
    "                          location,\n",
    "                          numerical,\n",
    "                          price])\n",
    "    \n",
    "    \n",
    "    main_l = Dropout(0.0)(Dense(64,activation='relu') (main_l))\n",
    "    main_l = Dropout(0.0)(Dense(64,activation='relu') (main_l))\n",
    "    main_l = Dropout(0.0)(Dense(32,activation='relu') (main_l))\n",
    "    main_l = Dropout(0.0)(Dense(16,activation='relu') (main_l))\n",
    "    main_l = Dropout(0.0)(Dense(4,activation='relu') (main_l))\n",
    "    \n",
    "    #output\n",
    "    output = Dense(1,activation=\"sigmoid\") (main_l)\n",
    "    \n",
    "    #model\n",
    "    \n",
    "    model = Model(inputs=[title, description, parent_category_name, category_name, param_1, param123, image_top_1, \n",
    "                         cluster_5, cluster_10, cluster_20, user_type, activation_date, item_seq,\n",
    "                          numerical,image,location,price,prenum,postnum],\n",
    "                  outputs=[output,inter_l,post_l])\n",
    "    model.compile(optimizer = 'adam', loss= root_mean_squared_error, metrics = [root_mean_squared_error],loss_weights=[1.0,0.0,0.0])\n",
    "    return model\n",
    "\n",
    "def root_mean_squared_error(y_true, y_pred):\n",
    "    return K.sqrt(K.mean(K.square(y_true - y_pred))) "
   ]
  },
  {
   "cell_type": "code",
   "execution_count": 3,
   "metadata": {},
   "outputs": [
    {
     "name": "stdout",
     "output_type": "stream",
     "text": [
      "['best_public_blend.csv', 'embedding_matrix1.npy', 'lgsub_noCV.csv', 'resultwithwhole.001.csv', 'RNNtest.csv', 'RNNtrain.csv', 'testfinal.csv', 'testready.csv', 'testtemp.csv', 'testx.csv', 'trainfinal.csv', 'trainready.csv', 'traintemp.csv', 'trainx.csv']\n"
     ]
    }
   ],
   "source": [
    "print(os.listdir('E:\\\\kaggle\\\\Avito Demand Prediction Challenge\\\\features\\\\dataset\\\\'))"
   ]
  },
  {
   "cell_type": "code",
   "execution_count": 4,
   "metadata": {},
   "outputs": [],
   "source": [
    "\n",
    "def get_keras_data(data1,data2,data3):\n",
    "    title=[]\n",
    "    for i in list(data1.title):\n",
    "        title.append(list(eval(i)))\n",
    "    description=[]\n",
    "    for i in list(data1.description):\n",
    "        description.append(list(eval(i)))\n",
    "    \n",
    "    title=pad_sequences(title, maxlen=16)\n",
    "    description=pad_sequences(description, maxlen=128)\n",
    "    parent_category_name=np.array(data2.parent_category_name)\n",
    "    category_name=np.array(data2.category_name)\n",
    "    param_1=np.array(data2.param_1)\n",
    "    param123=np.array(data2.param123)\n",
    "    image_top_1=np.array(data2.image_top_1)\n",
    "    cluster_5=np.array(data2.cluster_5)\n",
    "    cluster_10=np.array(data2.cluster_10)\n",
    "    cluster_20=np.array(data2.cluster_20)\n",
    "    user_type=np.array(data2.user_type)\n",
    "    activation_date=np.array(data2.activation_date)\n",
    "    item_seq=np.array(data2.item_seq_number)\n",
    "    \n",
    "    columns=['item_seq_count','item_seq_deal_avg','dis_days', 'edit_time', 'item_num','count']\n",
    "    numerical=np.array(data3[columns])\n",
    "    columns=['avg_r','avg_g', 'avg_b', 'blurrness', 'dullness', 'whiteness',\n",
    "             'avg_pixel_width', 'width', 'height', 'size',\n",
    "             'resnet_1', 'resnet_3','resnet_5', 'resnet_ratio1', 'resnet_ratio2',\n",
    "             'incept_1', 'incept_3','incept_5', 'incept_ratio1', 'incept_ratio2',\n",
    "             'xcept_1', 'xcept_3','xcept_5', 'xcept_ratio1', 'xcept_ratio2']\n",
    "    image=np.array(data3[columns])\n",
    "    columns=['cus', 'ship', 'r_cus', 'r_ship', 'all_cus']\n",
    "    location=np.array(data3[columns])\n",
    "    price=np.array(data3.price)\n",
    "    columns=['para_num',\n",
    "             'deal_prob_avg', 'deal_prob_avg_par', 'count_avg', 'count_avg_par',\n",
    "             'title_num_words','title_num_unique_words','title_words_vs_unique']\n",
    "    prenum=np.array(data3[columns])\n",
    "    columns=['description_num_words','description_num_unique_words','description_words_vs_unique']\n",
    "    postnum=np.array(data3[columns])\n",
    "    \n",
    "    output=np.array(data2.deal_probability)\n",
    "    inter_l=np.zeros((len(data1), 16))\n",
    "    post_l=np.zeros((len(data1), 16))\n",
    "    \n",
    "    print(\"Data ready for Vectorization\")\n",
    "    \n",
    "    X=[title, description, parent_category_name, category_name, param_1, param123, image_top_1,\n",
    "       cluster_5, cluster_10, cluster_20, user_type, activation_date, item_seq,\n",
    "       numerical,image,location,price,prenum,postnum]\n",
    "    Y=[output,inter_l,post_l]\n",
    "    return (X,Y)"
   ]
  },
  {
   "cell_type": "code",
   "execution_count": 5,
   "metadata": {
    "scrolled": true
   },
   "outputs": [
    {
     "name": "stdout",
     "output_type": "stream",
     "text": [
      "Data ready for Vectorization\n"
     ]
    },
    {
     "data": {
      "text/plain": [
       "21"
      ]
     },
     "execution_count": 5,
     "metadata": {},
     "output_type": "execute_result"
    }
   ],
   "source": [
    "columns1=['title', 'description']\n",
    "columns2=['parent_category_name','category_name', 'user_type','activation_date','item_seq_number',\n",
    "         'param_1', 'param123','image_top_1','cluster_5', 'cluster_10','cluster_20','deal_probability']\n",
    "columns3=['item_seq_count','item_seq_deal_avg','dis_days', 'edit_time', 'item_num','count',\n",
    "          'avg_r','avg_g', 'avg_b', 'blurrness', 'dullness', 'whiteness',\n",
    "          'avg_pixel_width', 'width', 'height', 'size',\n",
    "          'resnet_1', 'resnet_3','resnet_5', 'resnet_ratio1', 'resnet_ratio2',\n",
    "          'incept_1', 'incept_3','incept_5', 'incept_ratio1', 'incept_ratio2',\n",
    "          'xcept_1', 'xcept_3','xcept_5', 'xcept_ratio1', 'xcept_ratio2',\n",
    "          'cus', 'ship', 'r_cus', 'r_ship', 'all_cus',\n",
    "          'para_num',\n",
    "          'deal_prob_avg', 'deal_prob_avg_par', 'count_avg', 'count_avg_par',\n",
    "          'title_num_words','title_num_unique_words','title_words_vs_unique',\n",
    "          'description_num_words','description_num_unique_words','description_words_vs_unique',\n",
    "          'price']\n",
    "path='E:\\\\kaggle\\\\Avito Demand Prediction Challenge\\\\features\\\\dataset\\\\'\n",
    "data1=pd.read_csv(path+'trainfinal.csv',header=0,skipinitialspace=True, usecols=columns1)\n",
    "data2=pd.read_csv(path+'trainfinal.csv',header=0,skipinitialspace=True, usecols=columns2)\n",
    "data3=pd.read_csv(path+'trainfinal.csv',header=0,skipinitialspace=True, usecols=columns3)\n",
    "\n",
    "\n",
    "X_train, Y_train = get_keras_data(data1,data2,data3)\n",
    "\n",
    "\n",
    "del data1,data2,data3\n",
    "gc.collect()"
   ]
  },
  {
   "cell_type": "code",
   "execution_count": 6,
   "metadata": {},
   "outputs": [
    {
     "data": {
      "text/plain": [
       "3"
      ]
     },
     "execution_count": 6,
     "metadata": {},
     "output_type": "execute_result"
    }
   ],
   "source": [
    "path='E:\\\\kaggle\\\\Avito Demand Prediction Challenge\\\\features\\\\dataset\\\\'\n",
    "embedding_matrix1=np.load(path+'embedding_matrix1.npy')\n",
    "gc.collect()\n"
   ]
  },
  {
   "cell_type": "code",
   "execution_count": 7,
   "metadata": {},
   "outputs": [],
   "source": [
    "exp_decay = lambda init, fin, steps: (init/fin-1)/steps\n",
    "#exp_decay = lambda init, fin, steps: (init/fin)**(1/(steps-1)) - 1\n",
    "\n",
    "epochs = 16\n",
    "batch_size = 4096\n",
    "steps = ((len(Y_train[0]))/batch_size)*epochs\n",
    "lr_init, lr_fin = 0.001, 0.00000597\n",
    "lr_decay = exp_decay(lr_init, lr_fin, steps)\n",
    "modelRNN = RNN_model()\n",
    "K.set_value(modelRNN.optimizer.lr, lr_init)\n",
    "K.set_value(modelRNN.optimizer.decay, lr_decay)"
   ]
  },
  {
   "cell_type": "code",
   "execution_count": 5,
   "metadata": {},
   "outputs": [
    {
     "name": "stdout",
     "output_type": "stream",
     "text": [
      "__________________________________________________________________________________________________\n",
      "Layer (type)                    Output Shape         Param #     Connected to                     \n",
      "==================================================================================================\n",
      "title (InputLayer)              (None, 16)           0                                            \n",
      "__________________________________________________________________________________________________\n",
      "category_name (InputLayer)      (None, 1)            0                                            \n",
      "__________________________________________________________________________________________________\n",
      "parent_category_name (InputLaye (None, 1)            0                                            \n",
      "__________________________________________________________________________________________________\n",
      "cluster_5 (InputLayer)          (None, 1)            0                                            \n",
      "__________________________________________________________________________________________________\n",
      "cluster_10 (InputLayer)         (None, 1)            0                                            \n",
      "__________________________________________________________________________________________________\n",
      "cluster_20 (InputLayer)         (None, 1)            0                                            \n",
      "__________________________________________________________________________________________________\n",
      "param_1 (InputLayer)            (None, 1)            0                                            \n",
      "__________________________________________________________________________________________________\n",
      "param123 (InputLayer)           (None, 1)            0                                            \n",
      "__________________________________________________________________________________________________\n",
      "description (InputLayer)        (None, 128)          0                                            \n",
      "__________________________________________________________________________________________________\n",
      "embedding_1 (Embedding)         (None, 16, 300)      60000300    title[0][0]                      \n",
      "__________________________________________________________________________________________________\n",
      "embedding_3 (Embedding)         (None, 1, 3)         144         category_name[0][0]              \n",
      "__________________________________________________________________________________________________\n",
      "embedding_4 (Embedding)         (None, 1, 3)         30          parent_category_name[0][0]       \n",
      "__________________________________________________________________________________________________\n",
      "embedding_8 (Embedding)         (None, 1, 1)         68          cluster_5[0][0]                  \n",
      "__________________________________________________________________________________________________\n",
      "embedding_9 (Embedding)         (None, 1, 1)         47          cluster_10[0][0]                 \n",
      "__________________________________________________________________________________________________\n",
      "embedding_10 (Embedding)        (None, 1, 1)         24          cluster_20[0][0]                 \n",
      "__________________________________________________________________________________________________\n",
      "embedding_5 (Embedding)         (None, 1, 1)         373         param_1[0][0]                    \n",
      "__________________________________________________________________________________________________\n",
      "embedding_6 (Embedding)         (None, 1, 1)         2402        param123[0][0]                   \n",
      "__________________________________________________________________________________________________\n",
      "embedding_2 (Embedding)         (None, 128, 300)     60000300    description[0][0]                \n",
      "__________________________________________________________________________________________________\n",
      "gru_1 (GRU)                     (None, 32)           31968       embedding_1[0][0]                \n",
      "__________________________________________________________________________________________________\n",
      "flatten_1 (Flatten)             (None, 3)            0           embedding_3[0][0]                \n",
      "__________________________________________________________________________________________________\n",
      "flatten_2 (Flatten)             (None, 3)            0           embedding_4[0][0]                \n",
      "__________________________________________________________________________________________________\n",
      "flatten_3 (Flatten)             (None, 1)            0           embedding_8[0][0]                \n",
      "__________________________________________________________________________________________________\n",
      "flatten_4 (Flatten)             (None, 1)            0           embedding_9[0][0]                \n",
      "__________________________________________________________________________________________________\n",
      "flatten_5 (Flatten)             (None, 1)            0           embedding_10[0][0]               \n",
      "__________________________________________________________________________________________________\n",
      "flatten_6 (Flatten)             (None, 1)            0           embedding_5[0][0]                \n",
      "__________________________________________________________________________________________________\n",
      "flatten_7 (Flatten)             (None, 1)            0           embedding_6[0][0]                \n",
      "__________________________________________________________________________________________________\n",
      "location (InputLayer)           (None, 5)            0                                            \n",
      "__________________________________________________________________________________________________\n",
      "image (InputLayer)              (None, 25)           0                                            \n",
      "__________________________________________________________________________________________________\n",
      "prenum (InputLayer)             (None, 8)            0                                            \n",
      "__________________________________________________________________________________________________\n",
      "price (InputLayer)              (None, 1)            0                                            \n",
      "__________________________________________________________________________________________________\n",
      "gru_2 (GRU)                     (None, 16)           15216       embedding_2[0][0]                \n",
      "__________________________________________________________________________________________________\n",
      "postnum (InputLayer)            (None, 3)            0                                            \n",
      "__________________________________________________________________________________________________\n",
      "image_top_1 (InputLayer)        (None, 1)            0                                            \n",
      "__________________________________________________________________________________________________\n",
      "user_type (InputLayer)          (None, 1)            0                                            \n",
      "__________________________________________________________________________________________________\n",
      "activation_date (InputLayer)    (None, 1)            0                                            \n",
      "__________________________________________________________________________________________________\n",
      "item_seq (InputLayer)           (None, 1)            0                                            \n",
      "__________________________________________________________________________________________________\n",
      "concatenate_1 (Concatenate)     (None, 82)           0           gru_1[0][0]                      \n",
      "                                                                 flatten_1[0][0]                  \n",
      "                                                                 flatten_2[0][0]                  \n",
      "                                                                 flatten_3[0][0]                  \n",
      "                                                                 flatten_4[0][0]                  \n",
      "                                                                 flatten_5[0][0]                  \n",
      "                                                                 flatten_6[0][0]                  \n",
      "                                                                 flatten_7[0][0]                  \n",
      "                                                                 location[0][0]                   \n",
      "                                                                 image[0][0]                      \n",
      "                                                                 prenum[0][0]                     \n",
      "                                                                 price[0][0]                      \n",
      "__________________________________________________________________________________________________\n",
      "concatenate_2 (Concatenate)     (None, 45)           0           gru_2[0][0]                      \n",
      "                                                                 image[0][0]                      \n",
      "                                                                 postnum[0][0]                    \n",
      "                                                                 price[0][0]                      \n",
      "__________________________________________________________________________________________________\n",
      "embedding_7 (Embedding)         (None, 1, 1)         3065        image_top_1[0][0]                \n",
      "__________________________________________________________________________________________________\n",
      "embedding_11 (Embedding)        (None, 1, 1)         4           user_type[0][0]                  \n",
      "__________________________________________________________________________________________________\n",
      "embedding_12 (Embedding)        (None, 1, 1)         8           activation_date[0][0]            \n",
      "__________________________________________________________________________________________________\n",
      "embedding_13 (Embedding)        (None, 1, 1)         33947       item_seq[0][0]                   \n",
      "__________________________________________________________________________________________________\n",
      "dense_1 (Dense)                 (None, 16)           1328        concatenate_1[0][0]              \n",
      "__________________________________________________________________________________________________\n",
      "dense_2 (Dense)                 (None, 16)           736         concatenate_2[0][0]              \n",
      "__________________________________________________________________________________________________\n",
      "flatten_8 (Flatten)             (None, 1)            0           embedding_7[0][0]                \n",
      "__________________________________________________________________________________________________\n",
      "flatten_9 (Flatten)             (None, 1)            0           embedding_11[0][0]               \n",
      "__________________________________________________________________________________________________\n",
      "flatten_10 (Flatten)            (None, 1)            0           embedding_12[0][0]               \n",
      "__________________________________________________________________________________________________\n",
      "flatten_11 (Flatten)            (None, 1)            0           embedding_13[0][0]               \n",
      "__________________________________________________________________________________________________\n",
      "numerical (InputLayer)          (None, 6)            0                                            \n",
      "__________________________________________________________________________________________________\n",
      "concatenate_3 (Concatenate)     (None, 48)           0           dense_1[0][0]                    \n",
      "                                                                 dense_2[0][0]                    \n",
      "                                                                 flatten_8[0][0]                  \n",
      "                                                                 flatten_9[0][0]                  \n",
      "                                                                 flatten_10[0][0]                 \n",
      "                                                                 flatten_11[0][0]                 \n",
      "                                                                 location[0][0]                   \n",
      "                                                                 numerical[0][0]                  \n",
      "                                                                 price[0][0]                      \n",
      "__________________________________________________________________________________________________\n",
      "dense_3 (Dense)                 (None, 64)           3136        concatenate_3[0][0]              \n",
      "__________________________________________________________________________________________________\n",
      "dropout_1 (Dropout)             (None, 64)           0           dense_3[0][0]                    \n",
      "__________________________________________________________________________________________________\n",
      "dense_4 (Dense)                 (None, 64)           4160        dropout_1[0][0]                  \n",
      "__________________________________________________________________________________________________\n",
      "dropout_2 (Dropout)             (None, 64)           0           dense_4[0][0]                    \n",
      "__________________________________________________________________________________________________\n",
      "dense_5 (Dense)                 (None, 32)           2080        dropout_2[0][0]                  \n",
      "__________________________________________________________________________________________________\n",
      "dropout_3 (Dropout)             (None, 32)           0           dense_5[0][0]                    \n",
      "__________________________________________________________________________________________________\n",
      "dense_6 (Dense)                 (None, 16)           528         dropout_3[0][0]                  \n",
      "__________________________________________________________________________________________________\n",
      "dropout_4 (Dropout)             (None, 16)           0           dense_6[0][0]                    \n",
      "__________________________________________________________________________________________________\n",
      "dense_7 (Dense)                 (None, 4)            68          dropout_4[0][0]                  \n",
      "__________________________________________________________________________________________________\n",
      "dropout_5 (Dropout)             (None, 4)            0           dense_7[0][0]                    \n",
      "__________________________________________________________________________________________________\n",
      "dense_8 (Dense)                 (None, 1)            5           dropout_5[0][0]                  \n",
      "==================================================================================================\n",
      "Total params: 120,099,937\n",
      "Trainable params: 99,337\n",
      "Non-trainable params: 120,000,600\n",
      "__________________________________________________________________________________________________\n"
     ]
    }
   ],
   "source": [
    "modelRNN.summary()"
   ]
  },
  {
   "cell_type": "code",
   "execution_count": null,
   "metadata": {
    "scrolled": false
   },
   "outputs": [
    {
     "name": "stdout",
     "output_type": "stream",
     "text": [
      "Epoch 1/16\n",
      "1503424/1503424 [==============================] - 112s 74us/step - loss: 0.2690 - dense_8_loss: 0.2690 - dense_1_loss: 0.6585 - dense_2_loss: 0.3413 - dense_8_root_mean_squared_error: 0.2690 - dense_1_root_mean_squared_error: 0.6585 - dense_2_root_mean_squared_error: 0.3413\n",
      "\n",
      "Epoch 00001: loss improved from inf to 0.26904, saving model to bestwhole.hdf5\n",
      "Epoch 2/16\n",
      "1503424/1503424 [==============================] - 110s 73us/step - loss: 0.2273 - dense_8_loss: 0.2273 - dense_1_loss: 0.6204 - dense_2_loss: 0.3153 - dense_8_root_mean_squared_error: 0.2273 - dense_1_root_mean_squared_error: 0.6204 - dense_2_root_mean_squared_error: 0.3153\n",
      "\n",
      "Epoch 00002: loss improved from 0.26904 to 0.22728, saving model to bestwhole.hdf5\n",
      "Epoch 3/16\n",
      "1503424/1503424 [==============================] - 110s 73us/step - loss: 0.2250 - dense_8_loss: 0.2250 - dense_1_loss: 0.5884 - dense_2_loss: 0.2997 - dense_8_root_mean_squared_error: 0.2250 - dense_1_root_mean_squared_error: 0.5884 - dense_2_root_mean_squared_error: 0.2997\n",
      "\n",
      "Epoch 00003: loss improved from 0.22728 to 0.22498, saving model to bestwhole.hdf5\n",
      "Epoch 4/16\n",
      "1503424/1503424 [==============================] - 110s 73us/step - loss: 0.2230 - dense_8_loss: 0.2230 - dense_1_loss: 0.5698 - dense_2_loss: 0.2828 - dense_8_root_mean_squared_error: 0.2230 - dense_1_root_mean_squared_error: 0.5698 - dense_2_root_mean_squared_error: 0.2828\n",
      "\n",
      "Epoch 00004: loss improved from 0.22498 to 0.22297, saving model to bestwhole.hdf5\n",
      "Epoch 5/16\n",
      "1503424/1503424 [==============================] - 111s 74us/step - loss: 0.2216 - dense_8_loss: 0.2216 - dense_1_loss: 0.5604 - dense_2_loss: 0.2733 - dense_8_root_mean_squared_error: 0.2216 - dense_1_root_mean_squared_error: 0.5604 - dense_2_root_mean_squared_error: 0.2733\n",
      "\n",
      "Epoch 00005: loss improved from 0.22297 to 0.22161, saving model to bestwhole.hdf5\n",
      "Epoch 6/16\n",
      "1503424/1503424 [==============================] - 111s 74us/step - loss: 0.2206 - dense_8_loss: 0.2206 - dense_1_loss: 0.5510 - dense_2_loss: 0.2689 - dense_8_root_mean_squared_error: 0.2206 - dense_1_root_mean_squared_error: 0.5510 - dense_2_root_mean_squared_error: 0.2689\n",
      "\n",
      "Epoch 00006: loss improved from 0.22161 to 0.22061, saving model to bestwhole.hdf5\n",
      "Epoch 7/16\n",
      "1503424/1503424 [==============================] - 111s 74us/step - loss: 0.2200 - dense_8_loss: 0.2200 - dense_1_loss: 0.5420 - dense_2_loss: 0.2681 - dense_8_root_mean_squared_error: 0.2200 - dense_1_root_mean_squared_error: 0.5420 - dense_2_root_mean_squared_error: 0.2681\n",
      "\n",
      "Epoch 00007: loss improved from 0.22061 to 0.21999, saving model to bestwhole.hdf5\n",
      "Epoch 8/16\n",
      "1503424/1503424 [==============================] - 111s 74us/step - loss: 0.2193 - dense_8_loss: 0.2193 - dense_1_loss: 0.5379 - dense_2_loss: 0.2709 - dense_8_root_mean_squared_error: 0.2193 - dense_1_root_mean_squared_error: 0.5379 - dense_2_root_mean_squared_error: 0.2709\n",
      "\n",
      "Epoch 00008: loss improved from 0.21999 to 0.21930, saving model to bestwhole.hdf5\n",
      "Epoch 9/16\n",
      "1503424/1503424 [==============================] - 111s 74us/step - loss: 0.2189 - dense_8_loss: 0.2189 - dense_1_loss: 0.5282 - dense_2_loss: 0.2670 - dense_8_root_mean_squared_error: 0.2189 - dense_1_root_mean_squared_error: 0.5282 - dense_2_root_mean_squared_error: 0.2670\n",
      "\n",
      "Epoch 00009: loss improved from 0.21930 to 0.21887, saving model to bestwhole.hdf5\n",
      "Epoch 10/16\n",
      "1503424/1503424 [==============================] - 111s 74us/step - loss: 0.2184 - dense_8_loss: 0.2184 - dense_1_loss: 0.5254 - dense_2_loss: 0.2655 - dense_8_root_mean_squared_error: 0.2184 - dense_1_root_mean_squared_error: 0.5254 - dense_2_root_mean_squared_error: 0.2655\n",
      "\n",
      "Epoch 00010: loss improved from 0.21887 to 0.21836, saving model to bestwhole.hdf5\n",
      "Epoch 11/16\n",
      "1503424/1503424 [==============================] - 111s 74us/step - loss: 0.2180 - dense_8_loss: 0.2180 - dense_1_loss: 0.5274 - dense_2_loss: 0.2659 - dense_8_root_mean_squared_error: 0.2180 - dense_1_root_mean_squared_error: 0.5274 - dense_2_root_mean_squared_error: 0.2659\n",
      "\n",
      "Epoch 00011: loss improved from 0.21836 to 0.21800, saving model to bestwhole.hdf5\n",
      "Epoch 12/16\n",
      "1503424/1503424 [==============================] - 112s 74us/step - loss: 0.2177 - dense_8_loss: 0.2177 - dense_1_loss: 0.5149 - dense_2_loss: 0.2615 - dense_8_root_mean_squared_error: 0.2177 - dense_1_root_mean_squared_error: 0.5149 - dense_2_root_mean_squared_error: 0.2615\n",
      "\n",
      "Epoch 00012: loss improved from 0.21800 to 0.21772, saving model to bestwhole.hdf5\n",
      "Epoch 13/16\n",
      "1503424/1503424 [==============================] - 112s 74us/step - loss: 0.2174 - dense_8_loss: 0.2174 - dense_1_loss: 0.5140 - dense_2_loss: 0.2607 - dense_8_root_mean_squared_error: 0.2174 - dense_1_root_mean_squared_error: 0.5140 - dense_2_root_mean_squared_error: 0.2607\n",
      "\n",
      "Epoch 00013: loss improved from 0.21772 to 0.21744, saving model to bestwhole.hdf5\n",
      "Epoch 14/16\n",
      "1503424/1503424 [==============================] - 112s 74us/step - loss: 0.2171 - dense_8_loss: 0.2171 - dense_1_loss: 0.5130 - dense_2_loss: 0.2599 - dense_8_root_mean_squared_error: 0.2171 - dense_1_root_mean_squared_error: 0.5130 - dense_2_root_mean_squared_error: 0.2599\n",
      "\n",
      "Epoch 00014: loss improved from 0.21744 to 0.21715, saving model to bestwhole.hdf5\n",
      "Epoch 15/16\n",
      "1503424/1503424 [==============================] - 112s 74us/step - loss: 0.2166 - dense_8_loss: 0.2166 - dense_1_loss: 0.5145 - dense_2_loss: 0.2619 - dense_8_root_mean_squared_error: 0.2166 - dense_1_root_mean_squared_error: 0.5145 - dense_2_root_mean_squared_error: 0.2619\n",
      "\n",
      "Epoch 00015: loss improved from 0.21715 to 0.21664, saving model to bestwhole.hdf5\n",
      "Epoch 16/16\n",
      "1101824/1503424 [====================>.........] - ETA: 29s - loss: 0.2165 - dense_8_loss: 0.2165 - dense_1_loss: 0.5063 - dense_2_loss: 0.2603 - dense_8_root_mean_squared_error: 0.2165 - dense_1_root_mean_squared_error: 0.5063 - dense_2_root_mean_squared_error: 0.2603"
     ]
    }
   ],
   "source": [
    "earlystop = EarlyStopping(monitor='loss', patience=10, verbose=1)\n",
    "\n",
    "filepath='bestwhole.hdf5'\n",
    "checkpoint = ModelCheckpoint(filepath, monitor='loss', verbose=1, save_best_only=True, mode='min')\n",
    "callbacks_list = [checkpoint,earlystop]\n",
    "\n",
    "hist = modelRNN.fit(X_train,Y_train, batch_size=batch_size, epochs=epochs,\n",
    "                    verbose=1,callbacks=callbacks_list)\n",
    "\n",
    "\n",
    "\n"
   ]
  },
  {
   "cell_type": "code",
   "execution_count": 9,
   "metadata": {},
   "outputs": [],
   "source": [
    "modelRNN.save('RNNmodel03.mod')"
   ]
  },
  {
   "cell_type": "code",
   "execution_count": 9,
   "metadata": {},
   "outputs": [],
   "source": [
    "val_preds,~,~ = modelRNN.predict(X_test)"
   ]
  },
  {
   "cell_type": "code",
   "execution_count": 26,
   "metadata": {},
   "outputs": [],
   "source": [
    "def rmse(y, y_pred):\n",
    "    y=y.flatten()\n",
    "    y_pred=y_pred.flatten()\n",
    "\n",
    "    Rsum = np.sum((y - y_pred)**2)\n",
    "    n = len(y)\n",
    "    RMSE = np.sqrt(Rsum/n)\n",
    "    return RMSE \n",
    "\n",
    "rmse(Y_test[0], val_preds)"
   ]
  },
  {
   "cell_type": "code",
   "execution_count": 18,
   "metadata": {},
   "outputs": [
    {
     "data": {
      "text/plain": [
       "numpy.ndarray"
      ]
     },
     "execution_count": 18,
     "metadata": {},
     "output_type": "execute_result"
    }
   ],
   "source": [
    "model.save(filepath)\n",
    "keras.models.load_model(filepath)"
   ]
  },
  {
   "cell_type": "code",
   "execution_count": 21,
   "metadata": {},
   "outputs": [
    {
     "data": {
      "text/plain": [
       "array([0.80323, 0.     , 0.10342, ..., 0.     , 0.     , 0.7376 ])"
      ]
     },
     "execution_count": 21,
     "metadata": {},
     "output_type": "execute_result"
    }
   ],
   "source": [
    "(Y_test[0])"
   ]
  },
  {
   "cell_type": "code",
   "execution_count": 23,
   "metadata": {},
   "outputs": [
    {
     "data": {
      "text/plain": [
       "array([0.18857522, 0.06045391, 0.16316088, ..., 0.1368806 , 0.123833  ,\n",
       "       0.39630845], dtype=float32)"
      ]
     },
     "execution_count": 23,
     "metadata": {},
     "output_type": "execute_result"
    }
   ],
   "source": [
    "val_preds.flatten()\n"
   ]
  },
  {
   "cell_type": "code",
   "execution_count": 12,
   "metadata": {},
   "outputs": [
    {
     "data": {
      "text/plain": [
       "0.11340515273887351"
      ]
     },
     "execution_count": 12,
     "metadata": {},
     "output_type": "execute_result"
    }
   ],
   "source": [
    "exp_decay = lambda init, fin, steps: (init/fin-1)/steps\n",
    "#exp_decay = lambda init, fin, steps: (init/fin)**(1/(steps-1)) - 1\n",
    "\n",
    "epochs = 30\n",
    "batch_size = 4096\n",
    "steps = ((len(Y_train[0]))/batch_size)*epochs\n",
    "lr_init, lr_fin = 0.005, 0.000005\n",
    "lr_decay = exp_decay(lr_init, lr_fin, steps)\n",
    "exp_decay(lr_init, lr_fin, steps)"
   ]
  },
  {
   "cell_type": "code",
   "execution_count": 8,
   "metadata": {},
   "outputs": [
    {
     "data": {
      "text/plain": [
       "8809.12353515625"
      ]
     },
     "execution_count": 8,
     "metadata": {},
     "output_type": "execute_result"
    }
   ],
   "source": [
    "epochs = 30\n",
    "batch_size = 4096\n",
    "steps = ((len(Y_train[0]))/batch_size)*epochs\n",
    "\n",
    "def exp_decay(epoch):\n",
    "   initial_lrate = 0.005\n",
    "   k = 0.1\n",
    "   lrate = initial_lrate * exp(-k*t)\n",
    "   return lrate\n",
    "\n",
    "K.callbacks.LearningRateScheduler(schedule, verbose=0)"
   ]
  },
  {
   "cell_type": "code",
   "execution_count": 1,
   "metadata": {},
   "outputs": [
    {
     "name": "stdout",
     "output_type": "stream",
     "text": [
      "EXE: H:\\anaconda\\envs\\tensorflow\\python.exe\n",
      "PATH is\n",
      "<>\n",
      "<H:\\anaconda\\envs\\tensorflow\\python35.zip>\n",
      "<H:\\anaconda\\envs\\tensorflow\\DLLs>\n",
      "<H:\\anaconda\\envs\\tensorflow\\lib>\n",
      "<H:\\anaconda\\envs\\tensorflow>\n",
      "<H:\\anaconda\\envs\\tensorflow\\lib\\site-packages>\n",
      "<H:\\anaconda\\envs\\tensorflow\\lib\\site-packages\\IPython\\extensions>\n",
      "<C:\\Users\\lls\\.ipython>\n",
      "('64bit', 'WindowsPE')\n"
     ]
    }
   ],
   "source": [
    "import sys\n",
    "import platform\n",
    "print(\"EXE:\", sys.executable)  # you have to type the comma \n",
    "print(\"PATH is\\n<%s>\" % \">\\n<\".join(sys.path))\n",
    "print(platform.architecture())"
   ]
  },
  {
   "cell_type": "code",
   "execution_count": null,
   "metadata": {},
   "outputs": [],
   "source": []
  }
 ],
 "metadata": {
  "kernelspec": {
   "display_name": "Python 3",
   "language": "python",
   "name": "python3"
  },
  "language_info": {
   "codemirror_mode": {
    "name": "ipython",
    "version": 3
   },
   "file_extension": ".py",
   "mimetype": "text/x-python",
   "name": "python",
   "nbconvert_exporter": "python",
   "pygments_lexer": "ipython3",
   "version": "3.5.5"
  }
 },
 "nbformat": 4,
 "nbformat_minor": 2
}
